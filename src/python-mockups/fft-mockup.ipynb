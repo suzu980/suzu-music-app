{
 "cells": [
  {
   "cell_type": "code",
   "execution_count": 38,
   "metadata": {},
   "outputs": [
    {
     "name": "stdout",
     "output_type": "stream",
     "text": [
      "DFT Frequency: 0\t0.00\n",
      "DFT Frequency: 1\t0.00\n",
      "DFT Frequency: 2\t0.00\n",
      "DFT Frequency: 3\t4.00\n",
      "DFT Frequency: 4\t8.00\n",
      "DFT Frequency: 5\t4.00\n",
      "DFT Frequency: 6\t0.00\n",
      "DFT Frequency: 7\t0.00\n",
      "DFT Frequency: 8\t0.00\n",
      "DFT Frequency: 9\t0.00\n",
      "DFT Frequency: 10\t0.00\n",
      "DFT Frequency: 11\t0.00\n",
      "DFT Frequency: 12\t0.00\n",
      "DFT Frequency: 13\t0.00\n",
      "DFT Frequency: 14\t0.00\n",
      "DFT Frequency: 15\t0.00\n",
      "\n",
      "FFT Frequency: 0\t0.00\n",
      "FFT Frequency: 1\t0.00\n",
      "FFT Frequency: 2\t0.00\n",
      "FFT Frequency: 3\t4.00\n",
      "FFT Frequency: 4\t8.00\n",
      "FFT Frequency: 5\t4.00\n",
      "FFT Frequency: 6\t0.00\n",
      "FFT Frequency: 7\t0.00\n",
      "FFT Frequency: 8\t0.00\n",
      "FFT Frequency: 9\t0.00\n",
      "FFT Frequency: 10\t0.00\n",
      "FFT Frequency: 11\t0.00\n",
      "FFT Frequency: 12\t0.00\n",
      "FFT Frequency: 13\t0.00\n",
      "FFT Frequency: 14\t0.00\n",
      "FFT Frequency: 15\t0.00\n"
     ]
    }
   ],
   "source": [
    "import math\n",
    "\n",
    "sample_rate = 32 \n",
    "N = 32 #analyse 0.5 window\n",
    "\n",
    "signal_length = 128 \n",
    "\n",
    "xdata = []\n",
    "for i in range(signal_length):\n",
    "    t = i/sample_rate\n",
    "    f1 = 4\n",
    "    f2 =0\n",
    "    xdata.append(\n",
    "        math.cos(2 * math.pi * t * f1) +\n",
    "        math.sin(2 * math.pi * t * f2) \n",
    "    )  # has presence on frequency 3 and 5\n",
    "\n",
    "\n",
    "## TODO FFT\n",
    "def fft(x,n, max_N):\n",
    "    if n == max_N: \n",
    "        for k in range(n):\n",
    "            hann = 0.5 - 0.5 * math.cos(2 * math.pi * k / N-1)\n",
    "            # Apply Hann Window\n",
    "            x[k] = x[k]* hann\n",
    "    if n <= 1: return x\n",
    "    even = fft(x[0::2],n/2, N)\n",
    "    odd = fft(x[1::2],n/2, N)\n",
    "    # Perform fft \n",
    "    T = []\n",
    "    for k in range(int(n/2)):\n",
    "        a = -2*math.pi*k/n\n",
    "        T = complex(odd[k],0) * (math.cos(a) + 1j*math.sin(a))\n",
    "        x[k] = even[k] + T \n",
    "        x[(int)(n/2) + k] = even[k] - T\n",
    "    return x  \n",
    "\n",
    "def dft(x,n):\n",
    "    fq = []\n",
    "    for f in range((int)(n/2)):\n",
    "        new_dat = 0\n",
    "        for k in range((int)(n)):\n",
    "            hann = 0.5 - 0.5 * math.cos(2 * math.pi * k / N-1)\n",
    "            # Apply Hann Window\n",
    "            y = x[k] * hann\n",
    "            # Perform DFT\n",
    "            a = -2*math.pi*f*k/N\n",
    "            result = complex(y,0) * (math.cos(a) + 1j*math.sin(a))\n",
    "            new_dat += result\n",
    "        fq.append(new_dat)\n",
    "    return fq \n",
    "\n",
    "dft_freq = []\n",
    "fft_freq = []\n",
    "dft_freq  = dft(xdata, N)\n",
    "fft_freq  = fft(xdata, N, N)\n",
    "\n",
    "\n",
    "## Nyquist theorem, Highest resolvable frequency is half of sample rate\n",
    "for i in range((int)(N/2)):\n",
    "    max_freq = sample_rate /2  \n",
    "    freq_per_bin = (max_freq) / (N /2)\n",
    "    q = i * freq_per_bin\n",
    "    power_spec = abs(dft_freq[i]) \n",
    "    r = power_spec \n",
    "    log_spec = math.log(r)/1\n",
    "    print(\"DFT Frequency: %d\\t%.2f\" % (q, power_spec))\n",
    "print()\n",
    "for i in range((int)(N/2)):\n",
    "    max_freq = sample_rate /2  \n",
    "    freq_per_bin = (max_freq) / (N /2)\n",
    "    q = i * freq_per_bin\n",
    "    power_spec = abs(fft_freq[i]) \n",
    "    r = power_spec \n",
    "    log_spec = math.log(r)/1\n",
    "    print(\"FFT Frequency: %d\\t%.2f\" % (q, power_spec))\n",
    "\n",
    "## TODO Change scale to logarithmic scale\n",
    "\n",
    "#num_bins = (int)(N/2)\n",
    "#print(\"No of bins %s\" % num_bins)\n",
    "#print(\"Log scaled bins\")\n",
    "#logarithmic_bins = [10 ** (i / 10) for i in range(num_bins)]\n",
    "### init bins\n",
    "### twelve root of 2\n",
    "#twelve = 2 ** (1/12)\n",
    "#print(twelve)\n",
    "#powe = []\n",
    "#current = 0\n",
    "#elements = 0\n",
    "#while True:\n",
    "#    if current == 0:\n",
    "#        current = 1\n",
    "#        elements += 1\n",
    "#    else:\n",
    "#        current *= twelve\n",
    "#        elements += 1\n",
    "#    if current > 28: break\n",
    "##print(\"Elements: %d\" % elements)\n"
   ]
  },
  {
   "cell_type": "code",
   "execution_count": 11,
   "metadata": {},
   "outputs": [
    {
     "data": {
      "application/vnd.plotly.v1+json": {
       "config": {
        "plotlyServerURL": "https://plot.ly"
       },
       "data": [
        {
         "hovertemplate": "x=%{x}<br>y=%{y}<extra></extra>",
         "legendgroup": "",
         "line": {
          "color": "#636efa",
          "dash": "solid"
         },
         "marker": {
          "symbol": "circle"
         },
         "mode": "lines",
         "name": "",
         "orientation": "v",
         "showlegend": false,
         "type": "scatter",
         "x": [
          0,
          1,
          2,
          3,
          4,
          5,
          6,
          7,
          8,
          9,
          10,
          11,
          12,
          13,
          14,
          15,
          16,
          17,
          18,
          19,
          20,
          21,
          22,
          23,
          24,
          25,
          26,
          27,
          28,
          29,
          30,
          31,
          32,
          33,
          34,
          35,
          36,
          37,
          38,
          39,
          40,
          41,
          42,
          43,
          44,
          45,
          46,
          47,
          48,
          49,
          50,
          51,
          52,
          53,
          54,
          55,
          56,
          57,
          58,
          59,
          60,
          61,
          62,
          63,
          64,
          65,
          66,
          67,
          68,
          69,
          70,
          71,
          72,
          73,
          74,
          75,
          76,
          77,
          78,
          79,
          80,
          81,
          82,
          83,
          84,
          85,
          86,
          87,
          88,
          89,
          90,
          91,
          92,
          93,
          94,
          95,
          96,
          97,
          98,
          99,
          100,
          101,
          102,
          103,
          104,
          105,
          106,
          107,
          108,
          109,
          110,
          111,
          112,
          113,
          114,
          115,
          116,
          117,
          118,
          119,
          120,
          121,
          122,
          123,
          124,
          125,
          126,
          127
         ],
         "xaxis": "x",
         "y": [
          1,
          0.9238795325112867,
          0.7071067811865476,
          0.38268343236508984,
          6.123233995736766e-17,
          -0.3826834323650897,
          -0.7071067811865475,
          -0.9238795325112867,
          -1,
          -0.9238795325112868,
          -0.7071067811865477,
          -0.38268343236509034,
          -1.8369701987210297e-16,
          0.38268343236509,
          0.7071067811865474,
          0.9238795325112865,
          1,
          0.9238795325112866,
          0.7071067811865477,
          0.38268343236509045,
          3.061616997868383e-16,
          -0.3826834323650899,
          -0.7071067811865467,
          -0.9238795325112864,
          -1,
          -0.9238795325112867,
          -0.7071067811865472,
          -0.38268343236509056,
          -4.286263797015736e-16,
          0.3826834323650898,
          0.7071067811865466,
          0.9238795325112864,
          1,
          0.9238795325112867,
          0.7071067811865472,
          0.38268343236509067,
          5.51091059616309e-16,
          -0.38268343236508967,
          -0.7071067811865465,
          -0.9238795325112864,
          -1,
          -0.9238795325112875,
          -0.7071067811865474,
          -0.3826834323650908,
          -2.4499125789312946e-15,
          0.38268343236508956,
          0.7071067811865465,
          0.923879532511287,
          1,
          0.9238795325112875,
          0.7071067811865475,
          0.3826834323650909,
          -9.803364199544708e-16,
          -0.38268343236508945,
          -0.7071067811865464,
          -0.923879532511287,
          -1,
          -0.9238795325112876,
          -0.7071067811865476,
          -0.382683432365091,
          -2.6948419387607653e-15,
          0.38268343236508934,
          0.7071067811865462,
          0.9238795325112868,
          1,
          0.9238795325112876,
          0.7071067811865476,
          0.3826834323650911,
          -7.354070601250002e-16,
          -0.3826834323650892,
          -0.7071067811865461,
          -0.9238795325112868,
          -1,
          -0.9238795325112877,
          -0.7071067811865477,
          -0.3826834323650912,
          -2.939771298590236e-15,
          0.3826834323650891,
          0.707106781186546,
          0.9238795325112868,
          1,
          0.9238795325112877,
          0.7071067811865502,
          0.38268343236508806,
          -4.904777002955296e-16,
          -0.382683432365089,
          -0.7071067811865459,
          -0.9238795325112854,
          -1,
          -0.9238795325112864,
          -0.7071067811865479,
          -0.38268343236509145,
          -3.1847006584197066e-15,
          0.38268343236508556,
          0.7071067811865483,
          0.9238795325112867,
          1,
          0.9238795325112878,
          0.7071067811865505,
          0.3826834323650883,
          -2.45548340466059e-16,
          -0.3826834323650887,
          -0.7071067811865458,
          -0.9238795325112853,
          -1,
          -0.9238795325112865,
          -0.707106781186548,
          -0.38268343236509167,
          -3.4296300182491773e-15,
          0.38268343236508534,
          0.7071067811865482,
          0.9238795325112866,
          1,
          0.923879532511288,
          0.7071067811865507,
          0.3826834323650885,
          -6.189806365883577e-19,
          -0.3826834323650885,
          -0.7071067811865457,
          -0.9238795325112852,
          -1,
          -0.9238795325112866,
          -0.7071067811865482,
          -0.38268343236509195,
          -3.674559378078648e-15,
          0.3826834323650851,
          0.707106781186548,
          0.9238795325112865
         ],
         "yaxis": "y"
        }
       ],
       "layout": {
        "legend": {
         "tracegroupgap": 0
        },
        "margin": {
         "t": 60
        },
        "template": {
         "data": {
          "bar": [
           {
            "error_x": {
             "color": "#2a3f5f"
            },
            "error_y": {
             "color": "#2a3f5f"
            },
            "marker": {
             "line": {
              "color": "#E5ECF6",
              "width": 0.5
             },
             "pattern": {
              "fillmode": "overlay",
              "size": 10,
              "solidity": 0.2
             }
            },
            "type": "bar"
           }
          ],
          "barpolar": [
           {
            "marker": {
             "line": {
              "color": "#E5ECF6",
              "width": 0.5
             },
             "pattern": {
              "fillmode": "overlay",
              "size": 10,
              "solidity": 0.2
             }
            },
            "type": "barpolar"
           }
          ],
          "carpet": [
           {
            "aaxis": {
             "endlinecolor": "#2a3f5f",
             "gridcolor": "white",
             "linecolor": "white",
             "minorgridcolor": "white",
             "startlinecolor": "#2a3f5f"
            },
            "baxis": {
             "endlinecolor": "#2a3f5f",
             "gridcolor": "white",
             "linecolor": "white",
             "minorgridcolor": "white",
             "startlinecolor": "#2a3f5f"
            },
            "type": "carpet"
           }
          ],
          "choropleth": [
           {
            "colorbar": {
             "outlinewidth": 0,
             "ticks": ""
            },
            "type": "choropleth"
           }
          ],
          "contour": [
           {
            "colorbar": {
             "outlinewidth": 0,
             "ticks": ""
            },
            "colorscale": [
             [
              0,
              "#0d0887"
             ],
             [
              0.1111111111111111,
              "#46039f"
             ],
             [
              0.2222222222222222,
              "#7201a8"
             ],
             [
              0.3333333333333333,
              "#9c179e"
             ],
             [
              0.4444444444444444,
              "#bd3786"
             ],
             [
              0.5555555555555556,
              "#d8576b"
             ],
             [
              0.6666666666666666,
              "#ed7953"
             ],
             [
              0.7777777777777778,
              "#fb9f3a"
             ],
             [
              0.8888888888888888,
              "#fdca26"
             ],
             [
              1,
              "#f0f921"
             ]
            ],
            "type": "contour"
           }
          ],
          "contourcarpet": [
           {
            "colorbar": {
             "outlinewidth": 0,
             "ticks": ""
            },
            "type": "contourcarpet"
           }
          ],
          "heatmap": [
           {
            "colorbar": {
             "outlinewidth": 0,
             "ticks": ""
            },
            "colorscale": [
             [
              0,
              "#0d0887"
             ],
             [
              0.1111111111111111,
              "#46039f"
             ],
             [
              0.2222222222222222,
              "#7201a8"
             ],
             [
              0.3333333333333333,
              "#9c179e"
             ],
             [
              0.4444444444444444,
              "#bd3786"
             ],
             [
              0.5555555555555556,
              "#d8576b"
             ],
             [
              0.6666666666666666,
              "#ed7953"
             ],
             [
              0.7777777777777778,
              "#fb9f3a"
             ],
             [
              0.8888888888888888,
              "#fdca26"
             ],
             [
              1,
              "#f0f921"
             ]
            ],
            "type": "heatmap"
           }
          ],
          "heatmapgl": [
           {
            "colorbar": {
             "outlinewidth": 0,
             "ticks": ""
            },
            "colorscale": [
             [
              0,
              "#0d0887"
             ],
             [
              0.1111111111111111,
              "#46039f"
             ],
             [
              0.2222222222222222,
              "#7201a8"
             ],
             [
              0.3333333333333333,
              "#9c179e"
             ],
             [
              0.4444444444444444,
              "#bd3786"
             ],
             [
              0.5555555555555556,
              "#d8576b"
             ],
             [
              0.6666666666666666,
              "#ed7953"
             ],
             [
              0.7777777777777778,
              "#fb9f3a"
             ],
             [
              0.8888888888888888,
              "#fdca26"
             ],
             [
              1,
              "#f0f921"
             ]
            ],
            "type": "heatmapgl"
           }
          ],
          "histogram": [
           {
            "marker": {
             "pattern": {
              "fillmode": "overlay",
              "size": 10,
              "solidity": 0.2
             }
            },
            "type": "histogram"
           }
          ],
          "histogram2d": [
           {
            "colorbar": {
             "outlinewidth": 0,
             "ticks": ""
            },
            "colorscale": [
             [
              0,
              "#0d0887"
             ],
             [
              0.1111111111111111,
              "#46039f"
             ],
             [
              0.2222222222222222,
              "#7201a8"
             ],
             [
              0.3333333333333333,
              "#9c179e"
             ],
             [
              0.4444444444444444,
              "#bd3786"
             ],
             [
              0.5555555555555556,
              "#d8576b"
             ],
             [
              0.6666666666666666,
              "#ed7953"
             ],
             [
              0.7777777777777778,
              "#fb9f3a"
             ],
             [
              0.8888888888888888,
              "#fdca26"
             ],
             [
              1,
              "#f0f921"
             ]
            ],
            "type": "histogram2d"
           }
          ],
          "histogram2dcontour": [
           {
            "colorbar": {
             "outlinewidth": 0,
             "ticks": ""
            },
            "colorscale": [
             [
              0,
              "#0d0887"
             ],
             [
              0.1111111111111111,
              "#46039f"
             ],
             [
              0.2222222222222222,
              "#7201a8"
             ],
             [
              0.3333333333333333,
              "#9c179e"
             ],
             [
              0.4444444444444444,
              "#bd3786"
             ],
             [
              0.5555555555555556,
              "#d8576b"
             ],
             [
              0.6666666666666666,
              "#ed7953"
             ],
             [
              0.7777777777777778,
              "#fb9f3a"
             ],
             [
              0.8888888888888888,
              "#fdca26"
             ],
             [
              1,
              "#f0f921"
             ]
            ],
            "type": "histogram2dcontour"
           }
          ],
          "mesh3d": [
           {
            "colorbar": {
             "outlinewidth": 0,
             "ticks": ""
            },
            "type": "mesh3d"
           }
          ],
          "parcoords": [
           {
            "line": {
             "colorbar": {
              "outlinewidth": 0,
              "ticks": ""
             }
            },
            "type": "parcoords"
           }
          ],
          "pie": [
           {
            "automargin": true,
            "type": "pie"
           }
          ],
          "scatter": [
           {
            "fillpattern": {
             "fillmode": "overlay",
             "size": 10,
             "solidity": 0.2
            },
            "type": "scatter"
           }
          ],
          "scatter3d": [
           {
            "line": {
             "colorbar": {
              "outlinewidth": 0,
              "ticks": ""
             }
            },
            "marker": {
             "colorbar": {
              "outlinewidth": 0,
              "ticks": ""
             }
            },
            "type": "scatter3d"
           }
          ],
          "scattercarpet": [
           {
            "marker": {
             "colorbar": {
              "outlinewidth": 0,
              "ticks": ""
             }
            },
            "type": "scattercarpet"
           }
          ],
          "scattergeo": [
           {
            "marker": {
             "colorbar": {
              "outlinewidth": 0,
              "ticks": ""
             }
            },
            "type": "scattergeo"
           }
          ],
          "scattergl": [
           {
            "marker": {
             "colorbar": {
              "outlinewidth": 0,
              "ticks": ""
             }
            },
            "type": "scattergl"
           }
          ],
          "scattermapbox": [
           {
            "marker": {
             "colorbar": {
              "outlinewidth": 0,
              "ticks": ""
             }
            },
            "type": "scattermapbox"
           }
          ],
          "scatterpolar": [
           {
            "marker": {
             "colorbar": {
              "outlinewidth": 0,
              "ticks": ""
             }
            },
            "type": "scatterpolar"
           }
          ],
          "scatterpolargl": [
           {
            "marker": {
             "colorbar": {
              "outlinewidth": 0,
              "ticks": ""
             }
            },
            "type": "scatterpolargl"
           }
          ],
          "scatterternary": [
           {
            "marker": {
             "colorbar": {
              "outlinewidth": 0,
              "ticks": ""
             }
            },
            "type": "scatterternary"
           }
          ],
          "surface": [
           {
            "colorbar": {
             "outlinewidth": 0,
             "ticks": ""
            },
            "colorscale": [
             [
              0,
              "#0d0887"
             ],
             [
              0.1111111111111111,
              "#46039f"
             ],
             [
              0.2222222222222222,
              "#7201a8"
             ],
             [
              0.3333333333333333,
              "#9c179e"
             ],
             [
              0.4444444444444444,
              "#bd3786"
             ],
             [
              0.5555555555555556,
              "#d8576b"
             ],
             [
              0.6666666666666666,
              "#ed7953"
             ],
             [
              0.7777777777777778,
              "#fb9f3a"
             ],
             [
              0.8888888888888888,
              "#fdca26"
             ],
             [
              1,
              "#f0f921"
             ]
            ],
            "type": "surface"
           }
          ],
          "table": [
           {
            "cells": {
             "fill": {
              "color": "#EBF0F8"
             },
             "line": {
              "color": "white"
             }
            },
            "header": {
             "fill": {
              "color": "#C8D4E3"
             },
             "line": {
              "color": "white"
             }
            },
            "type": "table"
           }
          ]
         },
         "layout": {
          "annotationdefaults": {
           "arrowcolor": "#2a3f5f",
           "arrowhead": 0,
           "arrowwidth": 1
          },
          "autotypenumbers": "strict",
          "coloraxis": {
           "colorbar": {
            "outlinewidth": 0,
            "ticks": ""
           }
          },
          "colorscale": {
           "diverging": [
            [
             0,
             "#8e0152"
            ],
            [
             0.1,
             "#c51b7d"
            ],
            [
             0.2,
             "#de77ae"
            ],
            [
             0.3,
             "#f1b6da"
            ],
            [
             0.4,
             "#fde0ef"
            ],
            [
             0.5,
             "#f7f7f7"
            ],
            [
             0.6,
             "#e6f5d0"
            ],
            [
             0.7,
             "#b8e186"
            ],
            [
             0.8,
             "#7fbc41"
            ],
            [
             0.9,
             "#4d9221"
            ],
            [
             1,
             "#276419"
            ]
           ],
           "sequential": [
            [
             0,
             "#0d0887"
            ],
            [
             0.1111111111111111,
             "#46039f"
            ],
            [
             0.2222222222222222,
             "#7201a8"
            ],
            [
             0.3333333333333333,
             "#9c179e"
            ],
            [
             0.4444444444444444,
             "#bd3786"
            ],
            [
             0.5555555555555556,
             "#d8576b"
            ],
            [
             0.6666666666666666,
             "#ed7953"
            ],
            [
             0.7777777777777778,
             "#fb9f3a"
            ],
            [
             0.8888888888888888,
             "#fdca26"
            ],
            [
             1,
             "#f0f921"
            ]
           ],
           "sequentialminus": [
            [
             0,
             "#0d0887"
            ],
            [
             0.1111111111111111,
             "#46039f"
            ],
            [
             0.2222222222222222,
             "#7201a8"
            ],
            [
             0.3333333333333333,
             "#9c179e"
            ],
            [
             0.4444444444444444,
             "#bd3786"
            ],
            [
             0.5555555555555556,
             "#d8576b"
            ],
            [
             0.6666666666666666,
             "#ed7953"
            ],
            [
             0.7777777777777778,
             "#fb9f3a"
            ],
            [
             0.8888888888888888,
             "#fdca26"
            ],
            [
             1,
             "#f0f921"
            ]
           ]
          },
          "colorway": [
           "#636efa",
           "#EF553B",
           "#00cc96",
           "#ab63fa",
           "#FFA15A",
           "#19d3f3",
           "#FF6692",
           "#B6E880",
           "#FF97FF",
           "#FECB52"
          ],
          "font": {
           "color": "#2a3f5f"
          },
          "geo": {
           "bgcolor": "white",
           "lakecolor": "white",
           "landcolor": "#E5ECF6",
           "showlakes": true,
           "showland": true,
           "subunitcolor": "white"
          },
          "hoverlabel": {
           "align": "left"
          },
          "hovermode": "closest",
          "mapbox": {
           "style": "light"
          },
          "paper_bgcolor": "white",
          "plot_bgcolor": "#E5ECF6",
          "polar": {
           "angularaxis": {
            "gridcolor": "white",
            "linecolor": "white",
            "ticks": ""
           },
           "bgcolor": "#E5ECF6",
           "radialaxis": {
            "gridcolor": "white",
            "linecolor": "white",
            "ticks": ""
           }
          },
          "scene": {
           "xaxis": {
            "backgroundcolor": "#E5ECF6",
            "gridcolor": "white",
            "gridwidth": 2,
            "linecolor": "white",
            "showbackground": true,
            "ticks": "",
            "zerolinecolor": "white"
           },
           "yaxis": {
            "backgroundcolor": "#E5ECF6",
            "gridcolor": "white",
            "gridwidth": 2,
            "linecolor": "white",
            "showbackground": true,
            "ticks": "",
            "zerolinecolor": "white"
           },
           "zaxis": {
            "backgroundcolor": "#E5ECF6",
            "gridcolor": "white",
            "gridwidth": 2,
            "linecolor": "white",
            "showbackground": true,
            "ticks": "",
            "zerolinecolor": "white"
           }
          },
          "shapedefaults": {
           "line": {
            "color": "#2a3f5f"
           }
          },
          "ternary": {
           "aaxis": {
            "gridcolor": "white",
            "linecolor": "white",
            "ticks": ""
           },
           "baxis": {
            "gridcolor": "white",
            "linecolor": "white",
            "ticks": ""
           },
           "bgcolor": "#E5ECF6",
           "caxis": {
            "gridcolor": "white",
            "linecolor": "white",
            "ticks": ""
           }
          },
          "title": {
           "x": 0.05
          },
          "xaxis": {
           "automargin": true,
           "gridcolor": "white",
           "linecolor": "white",
           "ticks": "",
           "title": {
            "standoff": 15
           },
           "zerolinecolor": "white",
           "zerolinewidth": 2
          },
          "yaxis": {
           "automargin": true,
           "gridcolor": "white",
           "linecolor": "white",
           "ticks": "",
           "title": {
            "standoff": 15
           },
           "zerolinecolor": "white",
           "zerolinewidth": 2
          }
         }
        },
        "xaxis": {
         "anchor": "y",
         "domain": [
          0,
          1
         ],
         "title": {
          "text": "x"
         }
        },
        "yaxis": {
         "anchor": "x",
         "domain": [
          0,
          1
         ],
         "title": {
          "text": "y"
         }
        }
       }
      }
     },
     "metadata": {},
     "output_type": "display_data"
    }
   ],
   "source": [
    "import plotly.express as px\n",
    "fig = px.line(y = xdata)\n",
    "fig.show()"
   ]
  },
  {
   "cell_type": "code",
   "execution_count": 28,
   "metadata": {},
   "outputs": [
    {
     "ename": "IndexError",
     "evalue": "list assignment index out of range",
     "output_type": "error",
     "traceback": [
      "\u001b[0;31m---------------------------------------------------------------------------\u001b[0m",
      "\u001b[0;31mIndexError\u001b[0m                                Traceback (most recent call last)",
      "\u001b[1;32m/Users/zenzen/Documents/Git_repos/suzu-music-player/src/python-mockups/fft-mockup.ipynb Cell 3\u001b[0m line \u001b[0;36m2\n\u001b[1;32m      <a href='vscode-notebook-cell:/Users/zenzen/Documents/Git_repos/suzu-music-player/src/python-mockups/fft-mockup.ipynb#W2sZmlsZQ%3D%3D?line=0'>1</a>\u001b[0m i \u001b[39m=\u001b[39m \u001b[39mlist\u001b[39m()\n\u001b[0;32m----> <a href='vscode-notebook-cell:/Users/zenzen/Documents/Git_repos/suzu-music-player/src/python-mockups/fft-mockup.ipynb#W2sZmlsZQ%3D%3D?line=1'>2</a>\u001b[0m i[\u001b[39m2\u001b[39;49m] \u001b[39m=\u001b[39m \u001b[39m10\u001b[39m\n\u001b[1;32m      <a href='vscode-notebook-cell:/Users/zenzen/Documents/Git_repos/suzu-music-player/src/python-mockups/fft-mockup.ipynb#W2sZmlsZQ%3D%3D?line=2'>3</a>\u001b[0m \u001b[39mprint\u001b[39m(i[\u001b[39m2\u001b[39m])\n",
      "\u001b[0;31mIndexError\u001b[0m: list assignment index out of range"
     ]
    }
   ],
   "source": [
    "i = list()\n",
    "i[2] = 10\n",
    "print(i[2])"
   ]
  }
 ],
 "metadata": {
  "kernelspec": {
   "display_name": "Python 3",
   "language": "python",
   "name": "python3"
  },
  "language_info": {
   "codemirror_mode": {
    "name": "ipython",
    "version": 3
   },
   "file_extension": ".py",
   "mimetype": "text/x-python",
   "name": "python",
   "nbconvert_exporter": "python",
   "pygments_lexer": "ipython3",
   "version": "3.11.5"
  },
  "orig_nbformat": 4
 },
 "nbformat": 4,
 "nbformat_minor": 2
}
